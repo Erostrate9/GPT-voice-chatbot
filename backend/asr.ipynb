{
 "cells": [
  {
   "cell_type": "code",
   "execution_count": 5,
   "metadata": {
    "ExecuteTime": {
     "end_time": "2024-03-30T04:39:45.453609Z",
     "start_time": "2024-03-30T04:39:45.429062Z"
    }
   },
   "outputs": [
    {
     "name": "stdout",
     "output_type": "stream",
     "text": [
      "\n"
     ]
    }
   ],
   "source": [
    "import whisper\n",
    "filename=\"./myFile.wav\"\n",
    "model = whisper.load_model(\"tiny.en\")\n",
    "audio_input = open(filename, \"rb\")\n",
    "result = model.transcribe(\"./myFile.wav\")\n",
    "# result = model.transcribe(audio_input)\n",
    "print(result[\"text\"])"
   ]
  },
  {
   "cell_type": "code",
   "execution_count": 3,
   "metadata": {
    "ExecuteTime": {
     "end_time": "2024-03-26T02:50:51.005200Z",
     "start_time": "2024-03-26T02:50:50.640473Z"
    },
    "collapsed": false
   },
   "outputs": [
    {
     "name": "stderr",
     "output_type": "stream",
     "text": [
      "/Users/erostrate9/miniconda3/envs/va/lib/python3.12/site-packages/whisper/transcribe.py:115: UserWarning: FP16 is not supported on CPU; using FP32 instead\n",
      "  warnings.warn(\"FP16 is not supported on CPU; using FP32 instead\")\n"
     ]
    },
    {
     "name": "stdout",
     "output_type": "stream",
     "text": [
      " Free online voice recorder WAVL. Record voice and C2. WAVL. Powered by espos.com and espos.com\n"
     ]
    }
   ],
   "source": [
    "result = model.transcribe(\"../record_out.wav\")\n",
    "print(result[\"text\"])"
   ]
  },
  {
   "cell_type": "code",
   "execution_count": 4,
   "metadata": {
    "ExecuteTime": {
     "end_time": "2024-03-26T02:50:52.871348Z",
     "start_time": "2024-03-26T02:50:52.842642Z"
    },
    "collapsed": false
   },
   "outputs": [
    {
     "ename": "ModuleNotFoundError",
     "evalue": "No module named 'TTS'",
     "output_type": "error",
     "traceback": [
      "\u001b[0;31m---------------------------------------------------------------------------\u001b[0m",
      "\u001b[0;31mModuleNotFoundError\u001b[0m                       Traceback (most recent call last)",
      "Cell \u001b[0;32mIn[4], line 2\u001b[0m\n\u001b[1;32m      1\u001b[0m \u001b[38;5;28;01mimport\u001b[39;00m \u001b[38;5;21;01mtorch\u001b[39;00m\n\u001b[0;32m----> 2\u001b[0m \u001b[38;5;28;01mfrom\u001b[39;00m \u001b[38;5;21;01mTTS\u001b[39;00m\u001b[38;5;21;01m.\u001b[39;00m\u001b[38;5;21;01mapi\u001b[39;00m \u001b[38;5;28;01mimport\u001b[39;00m TTS\n\u001b[1;32m      4\u001b[0m \u001b[38;5;66;03m# Get device\u001b[39;00m\n\u001b[1;32m      5\u001b[0m device \u001b[38;5;241m=\u001b[39m \u001b[38;5;124m\"\u001b[39m\u001b[38;5;124mcuda\u001b[39m\u001b[38;5;124m\"\u001b[39m \u001b[38;5;28;01mif\u001b[39;00m torch\u001b[38;5;241m.\u001b[39mcuda\u001b[38;5;241m.\u001b[39mis_available() \u001b[38;5;28;01melse\u001b[39;00m \u001b[38;5;124m\"\u001b[39m\u001b[38;5;124mcpu\u001b[39m\u001b[38;5;124m\"\u001b[39m\n",
      "\u001b[0;31mModuleNotFoundError\u001b[0m: No module named 'TTS'"
     ]
    }
   ],
   "source": [
    "import torch\n",
    "from TTS.api import TTS\n",
    "\n",
    "# Get device\n",
    "device = \"cuda\" if torch.cuda.is_available() else \"cpu\"\n",
    "\n",
    "# List available 🐸TTS models\n",
    "print(TTS().list_models())\n"
   ]
  },
  {
   "cell_type": "markdown",
   "metadata": {
    "collapsed": false
   },
   "source": []
  },
  {
   "cell_type": "code",
   "execution_count": 1,
   "metadata": {
    "ExecuteTime": {
     "end_time": "2024-03-29T00:23:16.431164Z",
     "start_time": "2024-03-29T00:23:12.458036Z"
    },
    "collapsed": false
   },
   "outputs": [
    {
     "name": "stdout",
     "output_type": "stream",
     "text": [
      "Collecting langchain\r\n",
      "  Using cached langchain-0.1.13-py3-none-any.whl.metadata (13 kB)\r\n",
      "Requirement already satisfied: PyYAML>=5.3 in /Users/erostrate9/miniconda3/envs/chatbot/lib/python3.10/site-packages (from langchain) (6.0.1)\r\n",
      "Collecting SQLAlchemy<3,>=1.4 (from langchain)\r\n",
      "  Downloading SQLAlchemy-2.0.29-cp310-cp310-macosx_11_0_arm64.whl.metadata (9.6 kB)\r\n",
      "Requirement already satisfied: aiohttp<4.0.0,>=3.8.3 in /Users/erostrate9/miniconda3/envs/chatbot/lib/python3.10/site-packages (from langchain) (3.9.3)\r\n",
      "Requirement already satisfied: async-timeout<5.0.0,>=4.0.0 in /Users/erostrate9/miniconda3/envs/chatbot/lib/python3.10/site-packages (from langchain) (4.0.3)\r\n",
      "Collecting dataclasses-json<0.7,>=0.5.7 (from langchain)\r\n",
      "  Using cached dataclasses_json-0.6.4-py3-none-any.whl.metadata (25 kB)\r\n",
      "Collecting jsonpatch<2.0,>=1.33 (from langchain)\r\n",
      "  Using cached jsonpatch-1.33-py2.py3-none-any.whl.metadata (3.0 kB)\r\n",
      "Collecting langchain-community<0.1,>=0.0.29 (from langchain)\r\n",
      "  Using cached langchain_community-0.0.29-py3-none-any.whl.metadata (8.3 kB)\r\n",
      "Collecting langchain-core<0.2.0,>=0.1.33 (from langchain)\r\n",
      "  Downloading langchain_core-0.1.36-py3-none-any.whl.metadata (6.0 kB)\r\n",
      "Collecting langchain-text-splitters<0.1,>=0.0.1 (from langchain)\r\n",
      "  Using cached langchain_text_splitters-0.0.1-py3-none-any.whl.metadata (2.0 kB)\r\n",
      "Collecting langsmith<0.2.0,>=0.1.17 (from langchain)\r\n",
      "  Downloading langsmith-0.1.37-py3-none-any.whl.metadata (13 kB)\r\n",
      "Requirement already satisfied: numpy<2,>=1 in /Users/erostrate9/miniconda3/envs/chatbot/lib/python3.10/site-packages (from langchain) (1.22.0)\r\n",
      "Requirement already satisfied: pydantic<3,>=1 in /Users/erostrate9/miniconda3/envs/chatbot/lib/python3.10/site-packages (from langchain) (2.6.4)\r\n",
      "Requirement already satisfied: requests<3,>=2 in /Users/erostrate9/miniconda3/envs/chatbot/lib/python3.10/site-packages (from langchain) (2.31.0)\r\n",
      "Collecting tenacity<9.0.0,>=8.1.0 (from langchain)\r\n",
      "  Using cached tenacity-8.2.3-py3-none-any.whl.metadata (1.0 kB)\r\n",
      "Requirement already satisfied: aiosignal>=1.1.2 in /Users/erostrate9/miniconda3/envs/chatbot/lib/python3.10/site-packages (from aiohttp<4.0.0,>=3.8.3->langchain) (1.3.1)\r\n",
      "Requirement already satisfied: attrs>=17.3.0 in /Users/erostrate9/miniconda3/envs/chatbot/lib/python3.10/site-packages (from aiohttp<4.0.0,>=3.8.3->langchain) (23.1.0)\r\n",
      "Requirement already satisfied: frozenlist>=1.1.1 in /Users/erostrate9/miniconda3/envs/chatbot/lib/python3.10/site-packages (from aiohttp<4.0.0,>=3.8.3->langchain) (1.4.1)\r\n",
      "Requirement already satisfied: multidict<7.0,>=4.5 in /Users/erostrate9/miniconda3/envs/chatbot/lib/python3.10/site-packages (from aiohttp<4.0.0,>=3.8.3->langchain) (6.0.5)\r\n",
      "Requirement already satisfied: yarl<2.0,>=1.0 in /Users/erostrate9/miniconda3/envs/chatbot/lib/python3.10/site-packages (from aiohttp<4.0.0,>=3.8.3->langchain) (1.9.4)\r\n",
      "Collecting marshmallow<4.0.0,>=3.18.0 (from dataclasses-json<0.7,>=0.5.7->langchain)\r\n",
      "  Using cached marshmallow-3.21.1-py3-none-any.whl.metadata (7.2 kB)\r\n",
      "Collecting typing-inspect<1,>=0.4.0 (from dataclasses-json<0.7,>=0.5.7->langchain)\r\n",
      "  Using cached typing_inspect-0.9.0-py3-none-any.whl.metadata (1.5 kB)\r\n",
      "Collecting jsonpointer>=1.9 (from jsonpatch<2.0,>=1.33->langchain)\r\n",
      "  Using cached jsonpointer-2.4-py2.py3-none-any.whl.metadata (2.5 kB)\r\n",
      "Requirement already satisfied: packaging<24.0,>=23.2 in /Users/erostrate9/miniconda3/envs/chatbot/lib/python3.10/site-packages (from langchain-core<0.2.0,>=0.1.33->langchain) (23.2)\r\n",
      "Collecting orjson<4.0.0,>=3.9.14 (from langsmith<0.2.0,>=0.1.17->langchain)\r\n",
      "  Downloading orjson-3.10.0-cp310-cp310-macosx_10_15_x86_64.macosx_11_0_arm64.macosx_10_15_universal2.whl.metadata (49 kB)\r\n",
      "\u001b[2K     \u001b[90m━━━━━━━━━━━━━━━━━━━━━━━━━━━━━━━━━━━━━━━━\u001b[0m \u001b[32m49.5/49.5 kB\u001b[0m \u001b[31m2.5 MB/s\u001b[0m eta \u001b[36m0:00:00\u001b[0m\r\n",
      "\u001b[?25hRequirement already satisfied: annotated-types>=0.4.0 in /Users/erostrate9/miniconda3/envs/chatbot/lib/python3.10/site-packages (from pydantic<3,>=1->langchain) (0.6.0)\r\n",
      "Requirement already satisfied: pydantic-core==2.16.3 in /Users/erostrate9/miniconda3/envs/chatbot/lib/python3.10/site-packages (from pydantic<3,>=1->langchain) (2.16.3)\r\n",
      "Requirement already satisfied: typing-extensions>=4.6.1 in /Users/erostrate9/miniconda3/envs/chatbot/lib/python3.10/site-packages (from pydantic<3,>=1->langchain) (4.10.0)\r\n",
      "Requirement already satisfied: charset-normalizer<4,>=2 in /Users/erostrate9/miniconda3/envs/chatbot/lib/python3.10/site-packages (from requests<3,>=2->langchain) (3.3.2)\r\n",
      "Requirement already satisfied: idna<4,>=2.5 in /Users/erostrate9/miniconda3/envs/chatbot/lib/python3.10/site-packages (from requests<3,>=2->langchain) (3.4)\r\n",
      "Requirement already satisfied: urllib3<3,>=1.21.1 in /Users/erostrate9/miniconda3/envs/chatbot/lib/python3.10/site-packages (from requests<3,>=2->langchain) (2.1.0)\r\n",
      "Requirement already satisfied: certifi>=2017.4.17 in /Users/erostrate9/miniconda3/envs/chatbot/lib/python3.10/site-packages (from requests<3,>=2->langchain) (2024.2.2)\r\n",
      "Collecting mypy-extensions>=0.3.0 (from typing-inspect<1,>=0.4.0->dataclasses-json<0.7,>=0.5.7->langchain)\r\n",
      "  Using cached mypy_extensions-1.0.0-py3-none-any.whl.metadata (1.1 kB)\r\n",
      "Using cached langchain-0.1.13-py3-none-any.whl (810 kB)\r\n",
      "Using cached dataclasses_json-0.6.4-py3-none-any.whl (28 kB)\r\n",
      "Using cached jsonpatch-1.33-py2.py3-none-any.whl (12 kB)\r\n",
      "Using cached langchain_community-0.0.29-py3-none-any.whl (1.8 MB)\r\n",
      "Downloading langchain_core-0.1.36-py3-none-any.whl (273 kB)\r\n",
      "\u001b[2K   \u001b[90m━━━━━━━━━━━━━━━━━━━━━━━━━━━━━━━━━━━━━━━━\u001b[0m \u001b[32m273.9/273.9 kB\u001b[0m \u001b[31m8.9 MB/s\u001b[0m eta \u001b[36m0:00:00\u001b[0m\r\n",
      "\u001b[?25hUsing cached langchain_text_splitters-0.0.1-py3-none-any.whl (21 kB)\r\n",
      "Downloading langsmith-0.1.37-py3-none-any.whl (86 kB)\r\n",
      "\u001b[2K   \u001b[90m━━━━━━━━━━━━━━━━━━━━━━━━━━━━━━━━━━━━━━━━\u001b[0m \u001b[32m86.9/86.9 kB\u001b[0m \u001b[31m13.2 MB/s\u001b[0m eta \u001b[36m0:00:00\u001b[0m\r\n",
      "\u001b[?25hDownloading SQLAlchemy-2.0.29-cp310-cp310-macosx_11_0_arm64.whl (2.1 MB)\r\n",
      "\u001b[2K   \u001b[90m━━━━━━━━━━━━━━━━━━━━━━━━━━━━━━━━━━━━━━━━\u001b[0m \u001b[32m2.1/2.1 MB\u001b[0m \u001b[31m43.0 MB/s\u001b[0m eta \u001b[36m0:00:00\u001b[0ma \u001b[36m0:00:01\u001b[0m\r\n",
      "\u001b[?25hUsing cached tenacity-8.2.3-py3-none-any.whl (24 kB)\r\n",
      "Using cached jsonpointer-2.4-py2.py3-none-any.whl (7.8 kB)\r\n",
      "Using cached marshmallow-3.21.1-py3-none-any.whl (49 kB)\r\n",
      "Downloading orjson-3.10.0-cp310-cp310-macosx_10_15_x86_64.macosx_11_0_arm64.macosx_10_15_universal2.whl (252 kB)\r\n",
      "\u001b[2K   \u001b[90m━━━━━━━━━━━━━━━━━━━━━━━━━━━━━━━━━━━━━━━━\u001b[0m \u001b[32m252.1/252.1 kB\u001b[0m \u001b[31m36.6 MB/s\u001b[0m eta \u001b[36m0:00:00\u001b[0m\r\n",
      "\u001b[?25hUsing cached typing_inspect-0.9.0-py3-none-any.whl (8.8 kB)\r\n",
      "Using cached mypy_extensions-1.0.0-py3-none-any.whl (4.7 kB)\r\n",
      "Installing collected packages: tenacity, SQLAlchemy, orjson, mypy-extensions, marshmallow, jsonpointer, typing-inspect, jsonpatch, langsmith, dataclasses-json, langchain-core, langchain-text-splitters, langchain-community, langchain\r\n",
      "Successfully installed SQLAlchemy-2.0.29 dataclasses-json-0.6.4 jsonpatch-1.33 jsonpointer-2.4 langchain-0.1.13 langchain-community-0.0.29 langchain-core-0.1.36 langchain-text-splitters-0.0.1 langsmith-0.1.37 marshmallow-3.21.1 mypy-extensions-1.0.0 orjson-3.10.0 tenacity-8.2.3 typing-inspect-0.9.0\r\n"
     ]
    }
   ],
   "source": [
    "! pip install langchain"
   ]
  },
  {
   "cell_type": "code",
   "execution_count": 2,
   "metadata": {
    "ExecuteTime": {
     "end_time": "2024-03-29T00:23:18.563176Z",
     "start_time": "2024-03-29T00:23:17.732169Z"
    },
    "collapsed": false
   },
   "outputs": [],
   "source": [
    "from sf.slot_filter import SlotMemory"
   ]
  },
  {
   "cell_type": "code",
   "execution_count": 5,
   "metadata": {
    "ExecuteTime": {
     "end_time": "2024-03-29T00:25:06.074419Z",
     "start_time": "2024-03-29T00:25:04.617747Z"
    },
    "collapsed": false
   },
   "outputs": [
    {
     "name": "stdout",
     "output_type": "stream",
     "text": [
      "Collecting langchain_openai\r\n",
      "  Using cached langchain_openai-0.1.1-py3-none-any.whl.metadata (2.5 kB)\r\n",
      "Requirement already satisfied: langchain-core<0.2.0,>=0.1.33 in /Users/erostrate9/miniconda3/envs/chatbot/lib/python3.10/site-packages (from langchain_openai) (0.1.36)\r\n",
      "Requirement already satisfied: openai<2.0.0,>=1.10.0 in /Users/erostrate9/miniconda3/envs/chatbot/lib/python3.10/site-packages (from langchain_openai) (1.14.3)\r\n",
      "Collecting tiktoken<1,>=0.5.2 (from langchain_openai)\r\n",
      "  Downloading tiktoken-0.6.0-cp310-cp310-macosx_11_0_arm64.whl.metadata (6.6 kB)\r\n",
      "Requirement already satisfied: PyYAML>=5.3 in /Users/erostrate9/miniconda3/envs/chatbot/lib/python3.10/site-packages (from langchain-core<0.2.0,>=0.1.33->langchain_openai) (6.0.1)\r\n",
      "Requirement already satisfied: jsonpatch<2.0,>=1.33 in /Users/erostrate9/miniconda3/envs/chatbot/lib/python3.10/site-packages (from langchain-core<0.2.0,>=0.1.33->langchain_openai) (1.33)\r\n",
      "Requirement already satisfied: langsmith<0.2.0,>=0.1.0 in /Users/erostrate9/miniconda3/envs/chatbot/lib/python3.10/site-packages (from langchain-core<0.2.0,>=0.1.33->langchain_openai) (0.1.37)\r\n",
      "Requirement already satisfied: packaging<24.0,>=23.2 in /Users/erostrate9/miniconda3/envs/chatbot/lib/python3.10/site-packages (from langchain-core<0.2.0,>=0.1.33->langchain_openai) (23.2)\r\n",
      "Requirement already satisfied: pydantic<3,>=1 in /Users/erostrate9/miniconda3/envs/chatbot/lib/python3.10/site-packages (from langchain-core<0.2.0,>=0.1.33->langchain_openai) (2.6.4)\r\n",
      "Requirement already satisfied: requests<3,>=2 in /Users/erostrate9/miniconda3/envs/chatbot/lib/python3.10/site-packages (from langchain-core<0.2.0,>=0.1.33->langchain_openai) (2.31.0)\r\n",
      "Requirement already satisfied: tenacity<9.0.0,>=8.1.0 in /Users/erostrate9/miniconda3/envs/chatbot/lib/python3.10/site-packages (from langchain-core<0.2.0,>=0.1.33->langchain_openai) (8.2.3)\r\n",
      "Requirement already satisfied: anyio<5,>=3.5.0 in /Users/erostrate9/miniconda3/envs/chatbot/lib/python3.10/site-packages (from openai<2.0.0,>=1.10.0->langchain_openai) (4.2.0)\r\n",
      "Requirement already satisfied: distro<2,>=1.7.0 in /Users/erostrate9/miniconda3/envs/chatbot/lib/python3.10/site-packages (from openai<2.0.0,>=1.10.0->langchain_openai) (1.9.0)\r\n",
      "Requirement already satisfied: httpx<1,>=0.23.0 in /Users/erostrate9/miniconda3/envs/chatbot/lib/python3.10/site-packages (from openai<2.0.0,>=1.10.0->langchain_openai) (0.27.0)\r\n",
      "Requirement already satisfied: sniffio in /Users/erostrate9/miniconda3/envs/chatbot/lib/python3.10/site-packages (from openai<2.0.0,>=1.10.0->langchain_openai) (1.3.0)\r\n",
      "Requirement already satisfied: tqdm>4 in /Users/erostrate9/miniconda3/envs/chatbot/lib/python3.10/site-packages (from openai<2.0.0,>=1.10.0->langchain_openai) (4.66.2)\r\n",
      "Requirement already satisfied: typing-extensions<5,>=4.7 in /Users/erostrate9/miniconda3/envs/chatbot/lib/python3.10/site-packages (from openai<2.0.0,>=1.10.0->langchain_openai) (4.10.0)\r\n",
      "Requirement already satisfied: regex>=2022.1.18 in /Users/erostrate9/miniconda3/envs/chatbot/lib/python3.10/site-packages (from tiktoken<1,>=0.5.2->langchain_openai) (2023.12.25)\r\n",
      "Requirement already satisfied: idna>=2.8 in /Users/erostrate9/miniconda3/envs/chatbot/lib/python3.10/site-packages (from anyio<5,>=3.5.0->openai<2.0.0,>=1.10.0->langchain_openai) (3.4)\r\n",
      "Requirement already satisfied: exceptiongroup>=1.0.2 in /Users/erostrate9/miniconda3/envs/chatbot/lib/python3.10/site-packages (from anyio<5,>=3.5.0->openai<2.0.0,>=1.10.0->langchain_openai) (1.2.0)\r\n",
      "Requirement already satisfied: certifi in /Users/erostrate9/miniconda3/envs/chatbot/lib/python3.10/site-packages (from httpx<1,>=0.23.0->openai<2.0.0,>=1.10.0->langchain_openai) (2024.2.2)\r\n",
      "Requirement already satisfied: httpcore==1.* in /Users/erostrate9/miniconda3/envs/chatbot/lib/python3.10/site-packages (from httpx<1,>=0.23.0->openai<2.0.0,>=1.10.0->langchain_openai) (1.0.4)\r\n",
      "Requirement already satisfied: h11<0.15,>=0.13 in /Users/erostrate9/miniconda3/envs/chatbot/lib/python3.10/site-packages (from httpcore==1.*->httpx<1,>=0.23.0->openai<2.0.0,>=1.10.0->langchain_openai) (0.14.0)\r\n",
      "Requirement already satisfied: jsonpointer>=1.9 in /Users/erostrate9/miniconda3/envs/chatbot/lib/python3.10/site-packages (from jsonpatch<2.0,>=1.33->langchain-core<0.2.0,>=0.1.33->langchain_openai) (2.4)\r\n",
      "Requirement already satisfied: orjson<4.0.0,>=3.9.14 in /Users/erostrate9/miniconda3/envs/chatbot/lib/python3.10/site-packages (from langsmith<0.2.0,>=0.1.0->langchain-core<0.2.0,>=0.1.33->langchain_openai) (3.10.0)\r\n",
      "Requirement already satisfied: annotated-types>=0.4.0 in /Users/erostrate9/miniconda3/envs/chatbot/lib/python3.10/site-packages (from pydantic<3,>=1->langchain-core<0.2.0,>=0.1.33->langchain_openai) (0.6.0)\r\n",
      "Requirement already satisfied: pydantic-core==2.16.3 in /Users/erostrate9/miniconda3/envs/chatbot/lib/python3.10/site-packages (from pydantic<3,>=1->langchain-core<0.2.0,>=0.1.33->langchain_openai) (2.16.3)\r\n",
      "Requirement already satisfied: charset-normalizer<4,>=2 in /Users/erostrate9/miniconda3/envs/chatbot/lib/python3.10/site-packages (from requests<3,>=2->langchain-core<0.2.0,>=0.1.33->langchain_openai) (3.3.2)\r\n",
      "Requirement already satisfied: urllib3<3,>=1.21.1 in /Users/erostrate9/miniconda3/envs/chatbot/lib/python3.10/site-packages (from requests<3,>=2->langchain-core<0.2.0,>=0.1.33->langchain_openai) (2.1.0)\r\n",
      "Using cached langchain_openai-0.1.1-py3-none-any.whl (32 kB)\r\n",
      "Downloading tiktoken-0.6.0-cp310-cp310-macosx_11_0_arm64.whl (949 kB)\r\n",
      "\u001b[2K   \u001b[90m━━━━━━━━━━━━━━━━━━━━━━━━━━━━━━━━━━━━━━━━\u001b[0m \u001b[32m950.0/950.0 kB\u001b[0m \u001b[31m16.4 MB/s\u001b[0m eta \u001b[36m0:00:00\u001b[0m \u001b[36m0:00:01\u001b[0m\r\n",
      "\u001b[?25hInstalling collected packages: tiktoken, langchain_openai\r\n",
      "Successfully installed langchain_openai-0.1.1 tiktoken-0.6.0\r\n"
     ]
    }
   ],
   "source": [
    "! pip install langchain_openai"
   ]
  },
  {
   "cell_type": "code",
   "execution_count": 7,
   "metadata": {
    "ExecuteTime": {
     "end_time": "2024-03-29T00:29:09.305428Z",
     "start_time": "2024-03-29T00:29:09.259458Z"
    },
    "collapsed": false
   },
   "outputs": [],
   "source": [
    "from langchain_openai import ChatOpenAI\n",
    "sf = SlotMemory(llm=ChatOpenAI(temperature=0, model=\"gpt-3.5-turbo-0613\"))"
   ]
  },
  {
   "cell_type": "code",
   "execution_count": null,
   "metadata": {
    "collapsed": false
   },
   "outputs": [],
   "source": []
  }
 ],
 "metadata": {
  "kernelspec": {
   "display_name": "Python 3 (ipykernel)",
   "language": "python",
   "name": "python3"
  },
  "language_info": {
   "codemirror_mode": {
    "name": "ipython",
    "version": 3
   },
   "file_extension": ".py",
   "mimetype": "text/x-python",
   "name": "python",
   "nbconvert_exporter": "python",
   "pygments_lexer": "ipython3",
   "version": "3.12.2"
  }
 },
 "nbformat": 4,
 "nbformat_minor": 2
}
